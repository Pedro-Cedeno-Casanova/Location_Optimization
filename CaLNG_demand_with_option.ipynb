
Open In Colab
Setup
# load libraries
import os
import math
import matplotlib.pyplot as plt
import numpy as np
import pandas as pd
import seaborn as sns

# control the figure size
plt.rcParams["figure.figsize"] = (20,3)
# load demand data
demand_data = pd.read_csv(
    'https://raw.githubusercontent.com/nosadchiy/public/main/demand.csv',
    dtype={"Month": str, "Date": int, "Demand": int})

# load intake price data
intake_price_data =  pd.read_csv(
    'https://raw.githubusercontent.com/nosadchiy/public/main/intake_price.csv',
    dtype={"Intake": int, "Price": float})
# inspect demand data
demand_data.head()
Month	Date	Demand
0	December	1	94
1	December	2	304
2	December	3	70
3	December	4	222
4	December	5	123
# inspect intake price data
intake_price_data.head()
Intake	Price
0	20	1.0
1	24	1.0
2	31	1.0
3	34	1.0
4	37	1.0
Decision Variables
#decision variables
calng_price = 7.50 # set by CaLNG
peak_intake_from_pipeline = 181
Utility (Actual Usage)
def determine_actual_usage(demand_data, calng_price, peak_intake_from_pipeline, total_lng_intake):
    '''
    this function determines the actual usage given CaLNG's price and peak intake from pipeline

    inputs:
    - calng_price: price set by CaLNG
    - peak_intake_from_pipeline: maximum intake from pipeline, after which consume LNG
    - demand_data: observed demand data (Month, Data, Demand in MMcF)
    - total_lng_intake: maximum amount ogf LNG to be used over the season

    outputs:
    - usage_data: usage data given observed demand, CaLNG price, and peak intake from pipeline
    '''
    usage_data = demand_data.copy()

    # set price index
    usage_data.reset_index(inplace=True, drop=False)
    usage_data = usage_data.rename(columns={'index': 'price_index'})

    usage_data['pipeline_price'] = usage_data.apply(lambda row: math.exp(max(0, (row['Demand'] - 144)/60)), axis=1)
    usage_data['cost_from_pipeline_only'] = usage_data['Demand'] * usage_data['pipeline_price']
    usage_data['demand_for_lng'] = usage_data.apply(lambda row: max(row['Demand'] - peak_intake_from_pipeline, 0), axis=1)
    usage_data['purchase_from_calng'] = 0

    accumulated_lng_usage = 0

    for index, row in usage_data.iterrows():
        purchase =  min(row['demand_for_lng'], total_lng_intake - accumulated_lng_usage)
        usage_data.loc[index, 'purchase_from_calng'] = purchase
        accumulated_lng_usage = accumulated_lng_usage + purchase

    usage_data['pipeline_intake'] = usage_data['Demand']-usage_data['purchase_from_calng']
    usage_data['pipeline_intake_price'] = usage_data.apply(lambda row: math.exp(max(0, (row['pipeline_intake'] - 144)/60)), axis=1)
    usage_data['cost_from_both'] = usage_data['pipeline_intake'] * usage_data['pipeline_intake_price'] + usage_data['purchase_from_calng'] * calng_price
    usage_data['savings'] = usage_data['cost_from_pipeline_only'] - usage_data['cost_from_both']

    return usage_data
# get usage data
usage_data = determine_actual_usage(demand_data, calng_price, peak_intake_from_pipeline, 1288)
# inspect usage_data (round to 2 decimal places)
np.round(usage_data,2)
price_index	Month	Date	Demand	pipeline_price	cost_from_pipeline_only	demand_for_lng	purchase_from_calng	pipeline_intake	pipeline_intake_price	cost_from_both	savings
0	0	December	1	94	1.00	94.00	0	0	94	1.00	94.00	0.00
1	1	December	2	304	14.39	4375.14	123	123	181	1.85	1257.85	3117.30
2	2	December	3	70	1.00	70.00	0	0	70	1.00	70.00	0.00
3	3	December	4	222	3.67	814.58	41	41	181	1.85	642.85	171.74
4	4	December	5	123	1.00	123.00	0	0	123	1.00	123.00	0.00
...	...	...	...	...	...	...	...	...	...	...	...	...
86	86	February	25	52	1.00	52.00	0	0	52	1.00	52.00	0.00
87	87	February	26	39	1.00	39.00	0	0	39	1.00	39.00	0.00
88	88	February	27	109	1.00	109.00	0	0	109	1.00	109.00	0.00
89	89	February	28	250	5.85	1462.83	69	69	181	1.85	852.85	609.98
90	90	February	29	156	1.22	190.54	0	0	156	1.22	190.54	0.00
91 rows × 12 columns

def calculate_cost_statistics(usage_data, calng_price, peak_intake_from_pipeline, total_lng_purchase, return_data=False):
    cost_data = usage_data.copy()
    cost_data['pipeline_intake_cost'] = cost_data['pipeline_intake'] * cost_data['pipeline_intake_price']
    cost_data['calng_intake_cost'] = cost_data['purchase_from_calng'] * calng_price

    total_pipeline_intake = sum(cost_data['pipeline_intake'])
    total_calng_intake = sum(cost_data['purchase_from_calng'])

    total_pipeline_intake_cost = sum(cost_data['pipeline_intake_cost']) * 1000
    total_calng_intake_cost = total_lng_purchase*calng_price * 1000
    total_utility_cost = total_pipeline_intake_cost + total_calng_intake_cost
    total_savings = sum(cost_data['savings']) * 1000

    average_demand = np.mean(cost_data['Demand'])
    average_price = math.exp(max(0, (average_demand - 144)/60))

    total_average_draw_daily = sum(cost_data['Demand']) * average_price * 1000

    if not return_data:
        print(f"CaLNG price: ${calng_price:<04}")

        print("---")
        print(f"Peak intake from pipeline: {peak_intake_from_pipeline:,.0f} MMcf")
        print(f"Total peak months intake from pipeline: {total_pipeline_intake:,.0f} MMcf")
        print(f"Total intake from CaLNG: {total_calng_intake:,.0f} MMcf")

        print("---")
        print(f"Total amount paid to pipeline: ${total_pipeline_intake_cost:,.0f}")
        print(f"Total amount paid to CaLNG: ${total_calng_intake_cost:,.0f}")
        print(f"Total cost for utility: ${total_utility_cost:,.0f}")
        print(f"Savings from using CaLNG: ${total_savings:,.0f}")

        print("---")
        print(f"Total cost if average draw daily: ${total_average_draw_daily:,.0f}")

    else:
        cost_stat_dict = {
            "peak_intake_from_pipeline": peak_intake_from_pipeline,
            "total_lng_purchase": total_lng_purchase,
            "total_pipeline_intake": total_pipeline_intake,
            "total_calng_intake": total_calng_intake,
            "total_pipeline_intake_cost": total_pipeline_intake_cost,
            "total_calng_intake_cost": total_calng_intake_cost,
            "total_utility_cost": total_utility_cost,
            "total_savings": total_savings,
            "total_average_draw_daily": total_average_draw_daily
        }

        return cost_stat_dict
calculate_cost_statistics(usage_data, calng_price, peak_intake_from_pipeline, 1288)
CaLNG price: $7.50
---
Peak intake from pipeline: 181 MMcf
Total peak months intake from pipeline: 12,428 MMcf
Total intake from CaLNG: 1,288 MMcf
---
Total amount paid to pipeline: $18,463,575
Total amount paid to CaLNG: $9,660,000
Total cost for utility: $28,123,575
Savings from using CaLNG: $12,080,986
---
Total cost if average draw daily: $15,342,871
sns.lineplot(data=usage_data, x='price_index', y='pipeline_price')
plt.title('Pipeline Spot Price')
plt.axis([0, 91, 0, 16])
plt.grid()
plt.xlabel("")
plt.ylabel("Price")
plt.show()

Demand
sns.lineplot(data=usage_data, x='price_index', y='Demand')
plt.title('Daily Demand at Utility')
plt.axis([0, 91, 0, 350])
plt.grid()
plt.xlabel("")
plt.ylabel("Demand")
plt.show()

Intake from Pipeline
sns.lineplot(data=usage_data, x='price_index', y='pipeline_intake')
plt.title('Intake from Pipeline')
plt.axis([0, 91, 0, 350])
plt.grid()
plt.xlabel("")
plt.ylabel("Demand")
plt.show()

CaLNG Purchase
sns.lineplot(data=usage_data, x='price_index', y='purchase_from_calng')
plt.title('Gas Purchase from CaLNG')
plt.axis([0, 91, 0, 350])
plt.grid()
plt.xlabel("")
plt.ylabel("Gas Purchase")
plt.show()

Intake vs. Spot Price
sns.lineplot(data=intake_price_data, x='Intake', y='Price')
plt.title('Spot Price as a Function of Gas Intake')
plt.axis([0, 320, 0, 16])
plt.grid()
plt.show()

Option
# demand randomization parameters
mean_daily_demand = 144
std_dev_daily_demand = 59

#decision variables
total_lng = 1200
peak_intake_from_pipeline = 180
# simulate demand data
sim_demand_data = demand_data.copy()

# generate sample
demand_sample = np.random.normal(mean_daily_demand, std_dev_daily_demand, len(sim_demand_data))
demand_sample = np.round(np.where(demand_sample < 0, 0, demand_sample),0)

sim_demand_data['Demand'] = demand_sample
sim_usage_data = determine_actual_usage(sim_demand_data, calng_price, peak_intake_from_pipeline, total_lng)

calculate_cost_statistics(sim_usage_data, calng_price, peak_intake_from_pipeline, total_lng)
CaLNG price: $7.50
---
Peak intake from pipeline: 180 MMcf
Total peak months intake from pipeline: 12,355 MMcf
Total intake from CaLNG: 1,200 MMcf
---
Total amount paid to pipeline: $17,952,772
Total amount paid to CaLNG: $9,000,000
Total cost for utility: $26,952,772
Savings from using CaLNG: $13,826,248
---
Total cost if average draw daily: $14,722,195
Option Optimization
In progress

Our new codes

# Simulation Parameters
num_draws = 5000
total_lng_range = range(700, 1300, 50)
peak_intake_from_pipeline_range = range(170, 200, 5)
calng_price = 7.50  # Set by CaLNG
mean_daily_demand = 150  # Example mean daily demand
std_dev_daily_demand = 40  # Example standard deviation of daily demand
season_length = 180  # Example number of days in the LNG demand season
# Function to simulate daily demand
def simulate_demand(mean, std_dev, days, draws):
    return np.random.normal(mean, std_dev, (days, draws))

# Function to calculate total cost for a given setup
def calculate_cost(demand, total_lng, peak_intake, calng_price):
    # Placeholder for actual cost calculation logic based on demand and LNG intake
    pipeline_price = np.exp(np.maximum(0, (demand - 144) / 60))
    lng_usage = np.minimum(demand - peak_intake, total_lng)
    cost_from_pipeline = np.where(demand <= peak_intake, demand * pipeline_price, peak_intake * pipeline_price)
    cost_from_lng = lng_usage * calng_price
    total_cost = np.sum(cost_from_pipeline) + np.sum(cost_from_lng)
    return total_cost
# Initialize array to store simulation results
results = []

# Run simulation for each combination of total_lng and peak_intake_from_pipeline
for total_lng in total_lng_range:
    for peak_intake in peak_intake_from_pipeline_range:
        daily_demand_simulations = simulate_demand(mean_daily_demand, std_dev_daily_demand, season_length, num_draws)
        total_costs = []
        for simulation in range(num_draws):
            total_cost = calculate_cost(daily_demand_simulations[:, simulation], total_lng, peak_intake, calng_price)
            total_costs.append(total_cost)
        average_cost = np.mean(total_costs)
        std_dev_cost = np.std(total_costs)
        results.append((total_lng, peak_intake, average_cost, std_dev_cost))

# Convert results to DataFrame for analysis
results_df = pd.DataFrame(results, columns=['Total_LNG', 'Peak_Intake', 'Average_Cost', 'Std_Dev_Cost'])
# Find the optimal setup
optimal = results_df.loc[results_df['Average_Cost'].idxmin()]
optimal_total_lng = optimal['Total_LNG']
optimal_peak_intake = optimal['Peak_Intake']
print("Optimal_total_lng:", optimal_total_lng)
print("Optimal_peak_intake:", optimal_peak_intake)
Optimal_total_lng: 750.0
Optimal_peak_intake: 195.0
# Plotting
# Plot 1: Average Cost vs. Total_LNG at Optimal Peak Intake
plt.figure(figsize=(10, 5))
df_total_lng = results_df[results_df['Peak_Intake'] == optimal_peak_intake]
plt.errorbar(df_total_lng['Total_LNG'], df_total_lng['Average_Cost'], yerr=df_total_lng['Std_Dev_Cost'], fmt='-o')
plt.title('Average Cost vs. Total_LNG at Optimal Peak Intake')
plt.xlabel('Total_LNG')
plt.ylabel('Average Cost')
plt.grid(True)
plt.show()

From the trend in the graph, it appears that as total_LNG increases, the average cost initially decreases and then starts to plateau or even increase slightly, suggesting that there is an optimal range of total_LNG that minimizes costs. The error bars seem to increase in size as total_LNG increases, implying greater variability in cost at higher levels of LNG purchase.

# Plot 2: Average Cost vs. Peak Intake at Optimal Total_LNG
plt.figure(figsize=(10, 5))
df_peak_intake = results_df[results_df['Total_LNG'] == optimal_total_lng]
plt.errorbar(df_peak_intake['Peak_Intake'], df_peak_intake['Average_Cost'], yerr=df_peak_intake['Std_Dev_Cost'], fmt='-o')
plt.title('Average Cost vs. Peak Intake at Optimal Total_LNG')
plt.xlabel('Peak Intake from Pipeline')
plt.ylabel('Average Cost')
plt.grid(True)
plt.show()

In this graph, the average cost tends to decrease as the peak intake from the pipeline increases. This suggests that being able to use more pipeline gas (up to the optimal point) typically reduces the cost, likely because pipeline gas is cheaper than stored LNG. The error bars indicate that variability in cost also decreases as the peak intake increases, which may suggest lower risk at higher pipeline intake levels.

 
